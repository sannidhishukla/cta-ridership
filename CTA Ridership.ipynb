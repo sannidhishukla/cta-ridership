{
 "cells": [
  {
   "cell_type": "markdown",
   "metadata": {},
   "source": [
    "# Data Analysis Project: Exploring Chicago Transit Authority Bus Ridership\n",
    "\n",
    "In this project, I will be working with data on ridership in the Chicago Transit Authority (CTA) system between January 2001 and December 2017. \n",
    "\n",
    "I will be working with the datascience module introduced in Data 8 as well as with the numpy library. While the datascience module is quite similar to pandas, I chose to work with it rather than pandas because it has been used in Data 8 and its connector courses.\n",
    "\n",
    "<img src=\"http://chicagorailfan.com/map1952n.gif\"/>"
   ]
  },
  {
   "cell_type": "code",
   "execution_count": 9,
   "metadata": {},
   "outputs": [],
   "source": [
    "from datascience import *\n",
    "import numpy as np\n",
    "\n",
    "%matplotlib inline\n",
    "import matplotlib.pyplot as plots\n",
    "plots.style.use('fivethirtyeight')\n",
    "\n",
    "from ipywidgets import interact, interactive, fixed, interact_manual\n",
    "import ipywidgets as widgets"
   ]
  },
  {
   "cell_type": "markdown",
   "metadata": {},
   "source": [
    "## The Dataset\n",
    "\n",
    "The dataset that I am working with can be found at the link below:\n",
    "\n",
    "https://catalog.data.gov/dataset/cta-ridership-bus-routes-monthly-day-type-averages-totals-7a070\n",
    "\n",
    "I've also printed it out below with relabeled columns which are easier to work with"
   ]
  },
  {
   "cell_type": "code",
   "execution_count": 10,
   "metadata": {},
   "outputs": [
    {
     "data": {
      "text/html": [
       "<table border=\"1\" class=\"dataframe\">\n",
       "    <thead>\n",
       "        <tr>\n",
       "            <th>Route</th> <th>Name</th> <th>Month</th> <th>Weekday Avg</th> <th>Saturday Avg</th> <th>Sunday Avg</th> <th>Total</th>\n",
       "        </tr>\n",
       "    </thead>\n",
       "    <tbody>\n",
       "        <tr>\n",
       "            <td>1    </td> <td>Indiana/Hyde Park   </td> <td>01/01/2001</td> <td>6982.6     </td> <td>0           </td> <td>0         </td> <td>153617</td>\n",
       "        </tr>\n",
       "        <tr>\n",
       "            <td>2    </td> <td>Hyde Park Express   </td> <td>01/01/2001</td> <td>1000       </td> <td>0           </td> <td>0         </td> <td>22001 </td>\n",
       "        </tr>\n",
       "        <tr>\n",
       "            <td>3    </td> <td>King Drive          </td> <td>01/01/2001</td> <td>21406.5    </td> <td>13210.7     </td> <td>8725.3    </td> <td>567413</td>\n",
       "        </tr>\n",
       "        <tr>\n",
       "            <td>4    </td> <td>Cottage Grove       </td> <td>01/01/2001</td> <td>22432.2    </td> <td>17994       </td> <td>10662.2   </td> <td>618796</td>\n",
       "        </tr>\n",
       "        <tr>\n",
       "            <td>6    </td> <td>Jackson Park Express</td> <td>01/01/2001</td> <td>18443      </td> <td>13088.2     </td> <td>7165.6    </td> <td>493926</td>\n",
       "        </tr>\n",
       "        <tr>\n",
       "            <td>7    </td> <td>Harrison            </td> <td>01/01/2001</td> <td>5504.4     </td> <td>0           </td> <td>0         </td> <td>121097</td>\n",
       "        </tr>\n",
       "        <tr>\n",
       "            <td>8    </td> <td>Halsted             </td> <td>01/01/2001</td> <td>19582.2    </td> <td>12420       </td> <td>8280.8    </td> <td>521892</td>\n",
       "        </tr>\n",
       "        <tr>\n",
       "            <td>8A   </td> <td>South Halsted       </td> <td>01/01/2001</td> <td>3196.5     </td> <td>3006.6      </td> <td>1336.2    </td> <td>89030 </td>\n",
       "        </tr>\n",
       "        <tr>\n",
       "            <td>9    </td> <td>Ashland             </td> <td>01/01/2001</td> <td>29265.4    </td> <td>22621.7     </td> <td>15336.1   </td> <td>811006</td>\n",
       "        </tr>\n",
       "        <tr>\n",
       "            <td>10   </td> <td>Museum of S & I     </td> <td>01/01/2001</td> <td>0          </td> <td>562.6       </td> <td>372.9     </td> <td>4115  </td>\n",
       "        </tr>\n",
       "    </tbody>\n",
       "</table>\n",
       "<p>... (28375 rows omitted)</p>"
      ],
      "text/plain": [
       "Route | Name                 | Month      | Weekday Avg | Saturday Avg | Sunday Avg | Total\n",
       "1     | Indiana/Hyde Park    | 01/01/2001 | 6982.6      | 0            | 0          | 153617\n",
       "2     | Hyde Park Express    | 01/01/2001 | 1000        | 0            | 0          | 22001\n",
       "3     | King Drive           | 01/01/2001 | 21406.5     | 13210.7      | 8725.3     | 567413\n",
       "4     | Cottage Grove        | 01/01/2001 | 22432.2     | 17994        | 10662.2    | 618796\n",
       "6     | Jackson Park Express | 01/01/2001 | 18443       | 13088.2      | 7165.6     | 493926\n",
       "7     | Harrison             | 01/01/2001 | 5504.4      | 0            | 0          | 121097\n",
       "8     | Halsted              | 01/01/2001 | 19582.2     | 12420        | 8280.8     | 521892\n",
       "8A    | South Halsted        | 01/01/2001 | 3196.5      | 3006.6       | 1336.2     | 89030\n",
       "9     | Ashland              | 01/01/2001 | 29265.4     | 22621.7      | 15336.1    | 811006\n",
       "10    | Museum of S & I      | 01/01/2001 | 0           | 562.6        | 372.9      | 4115\n",
       "... (28375 rows omitted)"
      ]
     },
     "execution_count": 10,
     "metadata": {},
     "output_type": "execute_result"
    }
   ],
   "source": [
    "cta = Table.read_table('CTA.csv').relabel(0, 'Route').relabel(1, 'Name').relabel(2, 'Month').relabel(3, 'Weekday Avg').relabel(4, 'Saturday Avg').relabel(5, 'Sunday Avg').relabel(6, 'Total')\n",
    "cta"
   ]
  },
  {
   "cell_type": "markdown",
   "metadata": {},
   "source": [
    "## The Questions\n",
    "\n",
    "With this project I aim to use the dataset to explore:\n",
    "\n",
    "1. **Growth Rates:** On average, does the number of riders per bus line per year tend to increase or decrease? What is the yearly growth rate for each station? What is the average yearly growth rate? Which routes have the highest and lowest yearly growth rates and why might this be the case based on further research into local trends?\n",
    "\n",
    "2. **Ventra:** In August 2013, the CTA launched its partnership with Ventra, an electronic fare payment system. Ventra was meant to replace all other existing methods of payment by July 2014. What kind of impact, if any, has launching Ventra had on CTA bus ridership? In particular, is there a statistically significant difference in ridership before Ventra’s launch, during the transition period (8/13 to 7/14), and after it became the sole payment system for the CTA?\n",
    "\n",
    "3. **The University of Chicago:** Is there a statistically significant difference in average ridership for routes that lead to the University of Chicago (routes 170-173) during the summer versus during the school year?"
   ]
  },
  {
   "cell_type": "markdown",
   "metadata": {},
   "source": [
    "## Growth"
   ]
  },
  {
   "cell_type": "markdown",
   "metadata": {},
   "source": [
    "**The Question:** What is the average monthly growth rate for each bus line in the data set? Which routes have the highest and lowest average monthly growth rates?\n",
    "\n",
    "**Statistical Methods**: in this part of the project I ask several relatively easy to answer questions. Yet, none of these questions really requires any knowledge of statistics besides knowledge of how to calculate an average.\n",
    "\n",
    "\n",
    "**Setting up the Data:** Some lines in the dataset have data available for only one month while others have data available for all 204 months between 01/2001 and 12/2017. In other words, the panel data is unbalanced. Even though it doesn't really matter as much for this question since it's not an applied statistics question, it may be a good idea to balance the panel data anyway because it will come in handy for the other questions. The different weekday, Saturday, and Sunday/holiday averages are not quite useful to this inquiry so I drop those columns.\n",
    "\n",
    "The table below contains only those lines for which data is available for all 204 months. It's a bit shorter but still contains a substantial amount of data.\n",
    "\n",
    "To balance the data I will do the following:\n",
    "1. First I create an array called `all_months` which contains the names of the routes for which data is available for all 204 months. In order to do so I group `cta` by the 'Name' column and use the `where` method to select only those entries in the resulting table that have a count equal to 204. The 'Name' column of this new table is `all_months`\n",
    "2. Then I create a table called `balanced_table` which is `cta` but with only the entries wherein the 'Name' column corresponds to an entry in `all_months`.\n",
    "3. Finally, I drop the irrelevant columns from this table and create a new table called `balanced_table`."
   ]
  },
  {
   "cell_type": "code",
   "execution_count": 11,
   "metadata": {},
   "outputs": [
    {
     "data": {
      "text/html": [
       "<table border=\"1\" class=\"dataframe\">\n",
       "    <thead>\n",
       "        <tr>\n",
       "            <th>Route</th> <th>Name</th> <th>Month</th> <th>Total</th>\n",
       "        </tr>\n",
       "    </thead>\n",
       "    <tbody>\n",
       "        <tr>\n",
       "            <td>2    </td> <td>Hyde Park Express   </td> <td>01/01/2001</td> <td>22001 </td>\n",
       "        </tr>\n",
       "        <tr>\n",
       "            <td>3    </td> <td>King Drive          </td> <td>01/01/2001</td> <td>567413</td>\n",
       "        </tr>\n",
       "        <tr>\n",
       "            <td>4    </td> <td>Cottage Grove       </td> <td>01/01/2001</td> <td>618796</td>\n",
       "        </tr>\n",
       "        <tr>\n",
       "            <td>6    </td> <td>Jackson Park Express</td> <td>01/01/2001</td> <td>493926</td>\n",
       "        </tr>\n",
       "        <tr>\n",
       "            <td>7    </td> <td>Harrison            </td> <td>01/01/2001</td> <td>121097</td>\n",
       "        </tr>\n",
       "        <tr>\n",
       "            <td>8    </td> <td>Halsted             </td> <td>01/01/2001</td> <td>521892</td>\n",
       "        </tr>\n",
       "        <tr>\n",
       "            <td>8A   </td> <td>South Halsted       </td> <td>01/01/2001</td> <td>89030 </td>\n",
       "        </tr>\n",
       "        <tr>\n",
       "            <td>9    </td> <td>Ashland             </td> <td>01/01/2001</td> <td>811006</td>\n",
       "        </tr>\n",
       "        <tr>\n",
       "            <td>12   </td> <td>Roosevelt           </td> <td>01/01/2001</td> <td>288055</td>\n",
       "        </tr>\n",
       "        <tr>\n",
       "            <td>18   </td> <td>16th/18th           </td> <td>01/01/2001</td> <td>49130 </td>\n",
       "        </tr>\n",
       "    </tbody>\n",
       "</table>\n",
       "<p>... (19778 rows omitted)</p>"
      ],
      "text/plain": [
       "Route | Name                 | Month      | Total\n",
       "2     | Hyde Park Express    | 01/01/2001 | 22001\n",
       "3     | King Drive           | 01/01/2001 | 567413\n",
       "4     | Cottage Grove        | 01/01/2001 | 618796\n",
       "6     | Jackson Park Express | 01/01/2001 | 493926\n",
       "7     | Harrison             | 01/01/2001 | 121097\n",
       "8     | Halsted              | 01/01/2001 | 521892\n",
       "8A    | South Halsted        | 01/01/2001 | 89030\n",
       "9     | Ashland              | 01/01/2001 | 811006\n",
       "12    | Roosevelt            | 01/01/2001 | 288055\n",
       "18    | 16th/18th            | 01/01/2001 | 49130\n",
       "... (19778 rows omitted)"
      ]
     },
     "execution_count": 11,
     "metadata": {},
     "output_type": "execute_result"
    }
   ],
   "source": [
    "all_months = cta.group('Name').where('count', are.equal_to(204)).column('Name')\n",
    "balanced_table = cta.where('Name', are.contained_in(all_months)).select(0,1,2,6)\n",
    "balanced_table"
   ]
  },
  {
   "cell_type": "markdown",
   "metadata": {},
   "source": [
    "Using the group and column methods, I create separate arrays from some of the columns of the table because they will be useful later. Here is what they are:\n",
    "\n",
    "1. `months`: This is an array containing each of the 204 months in the dataset from '01/01/2001' to '12/01/2017'\n",
    "2. `year_numbers`: This is an array containing the years in the dataset from 2001 to 2017. I use this to make a graph later.\n",
    "3. `routes`: This array contains the number of each route.\n",
    "4. `names`: This array contains the name of each route."
   ]
  },
  {
   "cell_type": "code",
   "execution_count": 12,
   "metadata": {},
   "outputs": [],
   "source": [
    "months = balanced_table.group('Month').column('Month')\n",
    "year_numbers = np.arange(2001,2017)\n",
    "routes = balanced_table.group('Route').column('Route')\n",
    "names = balanced_table.group('Route', max).relabeled(1,'Name').column('Name')"
   ]
  },
  {
   "cell_type": "markdown",
   "metadata": {},
   "source": [
    "We also use list comprehensions to create lists that will be helpful later. Here is what they are:\n",
    "\n",
    "1. `growth`: a list containing every item in `months` that corresponds to January.\n",
    "2. `january`: a list containing every item in `growth` besides the one which corresponds to January 2017."
   ]
  },
  {
   "cell_type": "code",
   "execution_count": 13,
   "metadata": {},
   "outputs": [],
   "source": [
    "growth = [month for month in months if '01/01' in month]\n",
    "january = [month for month in growth if '01/01/2017' not in month]"
   ]
  },
  {
   "cell_type": "markdown",
   "metadata": {},
   "source": [
    "And then using the where method with the `are.contained_in` predicate, I create smaller tables from `balanced` table which contain only data for months included in these lists."
   ]
  },
  {
   "cell_type": "code",
   "execution_count": 14,
   "metadata": {},
   "outputs": [],
   "source": [
    "growth_table = balanced_table.where('Month', are.contained_in(growth))\n",
    "january_table = balanced_table.where('Month', are.contained_in(january))"
   ]
  },
  {
   "cell_type": "markdown",
   "metadata": {},
   "source": [
    "Below, I define a function, `growth`, which takes in a route number as an argument and returns the average monthly growth rate for that route based on the yearly growth rate. The function does the following:\n",
    "\n",
    "1. Uses the 'Total' column of `january_table` for the chosen route as the initial level\n",
    "2. Uses the `np.diff` function with the 'Total' column of `growth_table` for the chosen route to find the change in ridership\n",
    "3. Calculates the growth rate by dividing change by initial\n",
    "4. Using the growth rate formula introduced in Data 8, calculated the monthly growth rate.\n",
    "5. Returns the average monthly growth rate as a percentage"
   ]
  },
  {
   "cell_type": "code",
   "execution_count": 15,
   "metadata": {},
   "outputs": [
    {
     "data": {
      "text/plain": [
       "0.574"
      ]
     },
     "execution_count": 15,
     "metadata": {},
     "output_type": "execute_result"
    }
   ],
   "source": [
    "def growth(route):\n",
    "    initial = january_table.where('Route', route).column('Total')\n",
    "    change = np.diff(growth_table.where('Route', route).column('Total'))\n",
    "    growth = change / initial\n",
    "    monthly_growth = (np.mean(((growth + 1)**(1/12)) - 1))\n",
    "    return round(100*monthly_growth,3)\n",
    "growth('2')"
   ]
  },
  {
   "cell_type": "markdown",
   "metadata": {},
   "source": [
    "Using a for loop and the growth function defined above, I calculate the average monthly ridership growth rate for each route in `balanced_table` and create a new table containing the route number, the route name, and the calculated growth rates."
   ]
  },
  {
   "cell_type": "code",
   "execution_count": 16,
   "metadata": {},
   "outputs": [],
   "source": [
    "growth_rates_array = make_array()\n",
    "for i in routes:\n",
    "    growth_a = growth(i)\n",
    "    growth_rates_array = np.append(growth_rates_array, growth_a)\n",
    "growth_rates_array\n",
    "growth_rates_table = Table().with_columns('Route', routes, 'Name', names, 'Avg Monthly Growth Rate Percentage', growth_rates_array)"
   ]
  },
  {
   "cell_type": "markdown",
   "metadata": {},
   "source": [
    "The table containing all of the average monthly growth rates as percentages is printed below"
   ]
  },
  {
   "cell_type": "code",
   "execution_count": 17,
   "metadata": {},
   "outputs": [
    {
     "data": {
      "text/html": [
       "<table border=\"1\" class=\"dataframe\">\n",
       "    <thead>\n",
       "        <tr>\n",
       "            <th>Route</th> <th>Name</th> <th>Avg Monthly Growth Rate Percentage</th>\n",
       "        </tr>\n",
       "    </thead>\n",
       "    <tbody>\n",
       "        <tr>\n",
       "            <td>100  </td> <td>Jeffery Manor Express    </td> <td>-0.368                            </td>\n",
       "        </tr>\n",
       "        <tr>\n",
       "            <td>103  </td> <td>West 103rd               </td> <td>-0.248                            </td>\n",
       "        </tr>\n",
       "        <tr>\n",
       "            <td>106  </td> <td>East 103rd               </td> <td>-0.285                            </td>\n",
       "        </tr>\n",
       "        <tr>\n",
       "            <td>108  </td> <td>Halsted/95th             </td> <td>-0.49                             </td>\n",
       "        </tr>\n",
       "        <tr>\n",
       "            <td>112  </td> <td>Vincennes/111th          </td> <td>-0.313                            </td>\n",
       "        </tr>\n",
       "        <tr>\n",
       "            <td>119  </td> <td>Michigan/119th           </td> <td>-0.141                            </td>\n",
       "        </tr>\n",
       "        <tr>\n",
       "            <td>12   </td> <td>Roosevelt                </td> <td>0.066                             </td>\n",
       "        </tr>\n",
       "        <tr>\n",
       "            <td>125  </td> <td>Water Tower Express      </td> <td>-0.39                             </td>\n",
       "        </tr>\n",
       "        <tr>\n",
       "            <td>126  </td> <td>Jackson                  </td> <td>-0.364                            </td>\n",
       "        </tr>\n",
       "        <tr>\n",
       "            <td>135  </td> <td>Clarendon/LaSalle Express</td> <td>0.105                             </td>\n",
       "        </tr>\n",
       "    </tbody>\n",
       "</table>\n",
       "<p>... (87 rows omitted)</p>"
      ],
      "text/plain": [
       "Route | Name                      | Avg Monthly Growth Rate Percentage\n",
       "100   | Jeffery Manor Express     | -0.368\n",
       "103   | West 103rd                | -0.248\n",
       "106   | East 103rd                | -0.285\n",
       "108   | Halsted/95th              | -0.49\n",
       "112   | Vincennes/111th           | -0.313\n",
       "119   | Michigan/119th            | -0.141\n",
       "12    | Roosevelt                 | 0.066\n",
       "125   | Water Tower Express       | -0.39\n",
       "126   | Jackson                   | -0.364\n",
       "135   | Clarendon/LaSalle Express | 0.105\n",
       "... (87 rows omitted)"
      ]
     },
     "execution_count": 17,
     "metadata": {},
     "output_type": "execute_result"
    }
   ],
   "source": [
    "growth_rates_table"
   ]
  },
  {
   "cell_type": "markdown",
   "metadata": {},
   "source": [
    "And here's a really cute tool where you can enter any route number in the text box and it will output the average monthly growth rate for that route!! ^__^"
   ]
  },
  {
   "cell_type": "code",
   "execution_count": 18,
   "metadata": {},
   "outputs": [
    {
     "data": {
      "application/vnd.jupyter.widget-view+json": {
       "model_id": "13d95844cc114b36bd18fab2d2310f86",
       "version_major": 2,
       "version_minor": 0
      },
      "text/plain": [
       "interactive(children=(Text(value='100', description='route'), Output()), _dom_classes=('widget-interact',))"
      ]
     },
     "metadata": {},
     "output_type": "display_data"
    }
   ],
   "source": [
    "_ = interact(growth, route=\"100\")"
   ]
  },
  {
   "cell_type": "markdown",
   "metadata": {},
   "source": [
    "In this cell I use sorting and the .item and.column methods to find the routes with the highest and lowest average monthly growth rates. I then create tables which give all the data for these routes for January of each year. I add the `year_numbers` array defined above because it will help when graphing later."
   ]
  },
  {
   "cell_type": "code",
   "execution_count": 19,
   "metadata": {},
   "outputs": [
    {
     "name": "stderr",
     "output_type": "stream",
     "text": [
      "/srv/app/venv/lib/python3.6/site-packages/datascience/tables.py:192: FutureWarning: Implicit column method lookup is deprecated.\n",
      "  warnings.warn(\"Implicit column method lookup is deprecated.\", FutureWarning)\n"
     ]
    }
   ],
   "source": [
    "lowest_growth = growth_rates_table.sort(2).item(0).column(0)\n",
    "lowest_table = january_table.where('Route', lowest_growth).with_column('Year', year_numbers)\n",
    "highest_growth = growth_rates_table.sort(2, descending=True).item(0).column(0)\n",
    "highest_table = january_table.where('Route', highest_growth).with_column('Year', year_numbers)"
   ]
  },
  {
   "cell_type": "markdown",
   "metadata": {},
   "source": [
    "Below I reveal the names of the routes with the highest and lowest average monthly growth rates and graph their growth over time."
   ]
  },
  {
   "cell_type": "code",
   "execution_count": 20,
   "metadata": {},
   "outputs": [
    {
     "name": "stdout",
     "output_type": "stream",
     "text": [
      "The number of the route with the lowest average monthly growth rate is 169.000000\n"
     ]
    },
    {
     "data": {
      "image/png": "[encoded data removed]",
      "text/plain": [
       "<Figure size 432x288 with 1 Axes>"
      ]
     },
     "metadata": {},
     "output_type": "display_data"
    }
   ],
   "source": [
    "print(\"The number of the route with the lowest average monthly growth rate is {:f}\".format(int(int(lowest_growth.item(0)))))\n",
    "lowest_table.plot('Year', 'Total')"
   ]
  },
  {
   "cell_type": "code",
   "execution_count": 21,
   "metadata": {},
   "outputs": [
    {
     "name": "stdout",
     "output_type": "stream",
     "text": [
      "The number of the route with the highest average monthly growth rate is 172.000000\n"
     ]
    },
    {
     "data": {
      "image/png": "[encoded data removed]",
      "text/plain": [
       "<Figure size 432x288 with 1 Axes>"
      ]
     },
     "metadata": {},
     "output_type": "display_data"
    }
   ],
   "source": [
    "print(\"The number of the route with the highest average monthly growth rate is {:f}\".format(int(int(highest_growth.item(0)))))\n",
    "highest_table.plot('Year', 'Total')"
   ]
  },
  {
   "cell_type": "markdown",
   "metadata": {},
   "source": [
    "## The University of Chicago"
   ]
  },
  {
   "cell_type": "markdown",
   "metadata": {},
   "source": [
    "**The Question:** Is there a statistically significant difference in average ridership for routes with the University of Chicago as a terminus during the summer versus during the school year?\n",
    "\n",
    "> **Null Hypothesis:** At the 5% significance level, the difference in CTA ridership in lines with the University of Chicago as a terminus during the summer versus during the school year is not statistically significant.\n",
    "\n",
    "\n",
    "> **Alternative Hypothesis:** At the 5% significance level, there is a statistically significant decrease in CTA ridership in lines with the University of Chicago as a terminus during the summer versus during the school year.\n",
    "\n",
    "\n",
    "**Setting up the Data:** For this question, I examine only the lines that lead to the University of Chicago. For the purposes of this project, I assume that only the lines whose names include the phrase 'U. of Chicago' lead to the University.\n",
    "\n",
    "Typically the University of Chicago's \"summer quarter\" begins mid-June and lasts until roughly the end of September. Thus, for the purposes of this project, I will be counting the months of June, July, August, and September as \"summer months\" and the other eight months as the \"school year.\""
   ]
  },
  {
   "cell_type": "code",
   "execution_count": 22,
   "metadata": {},
   "outputs": [
    {
     "name": "stderr",
     "output_type": "stream",
     "text": [
      "/srv/app/venv/lib/python3.6/site-packages/ipykernel_launcher.py:12: FutureWarning: elementwise comparison failed; returning scalar instead, but in the future will perform elementwise comparison\n",
      "  if sys.path[0] == '':\n"
     ]
    },
    {
     "data": {
      "text/html": [
       "<table border=\"1\" class=\"dataframe\">\n",
       "    <thead>\n",
       "        <tr>\n",
       "            <th>Route</th> <th>Name</th> <th>Month</th> <th>Total</th>\n",
       "        </tr>\n",
       "    </thead>\n",
       "    <tbody>\n",
       "        <tr>\n",
       "            <td>170  </td> <td>U. of Chicago/Midway          </td> <td>01/01/2001</td> <td>6315 </td>\n",
       "        </tr>\n",
       "        <tr>\n",
       "            <td>171  </td> <td>U. of Chicago/Hyde Park       </td> <td>01/01/2001</td> <td>21573</td>\n",
       "        </tr>\n",
       "        <tr>\n",
       "            <td>172  </td> <td>U. of Chicago/Kenwood         </td> <td>01/01/2001</td> <td>20116</td>\n",
       "        </tr>\n",
       "        <tr>\n",
       "            <td>173  </td> <td>U. of Chicago/Lakeview Express</td> <td>01/01/2001</td> <td>9088 </td>\n",
       "        </tr>\n",
       "        <tr>\n",
       "            <td>170  </td> <td>U. of Chicago/Midway          </td> <td>02/01/2001</td> <td>5758 </td>\n",
       "        </tr>\n",
       "        <tr>\n",
       "            <td>171  </td> <td>U. of Chicago/Hyde Park       </td> <td>02/01/2001</td> <td>20728</td>\n",
       "        </tr>\n",
       "        <tr>\n",
       "            <td>172  </td> <td>U. of Chicago/Kenwood         </td> <td>02/01/2001</td> <td>19198</td>\n",
       "        </tr>\n",
       "        <tr>\n",
       "            <td>173  </td> <td>U. of Chicago/Lakeview Express</td> <td>02/01/2001</td> <td>7703 </td>\n",
       "        </tr>\n",
       "        <tr>\n",
       "            <td>170  </td> <td>U. of Chicago/Midway          </td> <td>03/01/2001</td> <td>5233 </td>\n",
       "        </tr>\n",
       "        <tr>\n",
       "            <td>171  </td> <td>U. of Chicago/Hyde Park       </td> <td>03/01/2001</td> <td>23436</td>\n",
       "        </tr>\n",
       "    </tbody>\n",
       "</table>\n",
       "<p>... (855 rows omitted)</p>"
      ],
      "text/plain": [
       "Route | Name                           | Month      | Total\n",
       "170   | U. of Chicago/Midway           | 01/01/2001 | 6315\n",
       "171   | U. of Chicago/Hyde Park        | 01/01/2001 | 21573\n",
       "172   | U. of Chicago/Kenwood          | 01/01/2001 | 20116\n",
       "173   | U. of Chicago/Lakeview Express | 01/01/2001 | 9088\n",
       "170   | U. of Chicago/Midway           | 02/01/2001 | 5758\n",
       "171   | U. of Chicago/Hyde Park        | 02/01/2001 | 20728\n",
       "172   | U. of Chicago/Kenwood          | 02/01/2001 | 19198\n",
       "173   | U. of Chicago/Lakeview Express | 02/01/2001 | 7703\n",
       "170   | U. of Chicago/Midway           | 03/01/2001 | 5233\n",
       "171   | U. of Chicago/Hyde Park        | 03/01/2001 | 23436\n",
       "... (855 rows omitted)"
      ]
     },
     "execution_count": 22,
     "metadata": {},
     "output_type": "execute_result"
    }
   ],
   "source": [
    "# First, I create an empty array called uchicago. Then, I use a for loop to iterate through\n",
    "# the array of line names to find those which contain the phrase 'U. of Chicago' and append the matching lines\n",
    "# to the empty array if they are not already in the array.\n",
    "# Finally, I use this array of names of lines that lead to the University to truncate the cta table\n",
    "# to show only these lines. This new table will be called uchicago_table.\n",
    "\n",
    "#Once again the data on averages isn't quite relevant so I drop these columns.\n",
    "\n",
    "names = cta.column('Name')\n",
    "uchicago = make_array()\n",
    "for i in names:\n",
    "    if 'U. of Chicago' in i and i not in uchicago:\n",
    "        uchicago = np.append(uchicago, i)\n",
    "uchicago_table = cta.where('Name', are.contained_in(uchicago)).drop(3, 4, 5)\n",
    "uchicago_table"
   ]
  },
  {
   "cell_type": "markdown",
   "metadata": {},
   "source": [
    "Since there are, obviously, fewer summer months than months during the school year, it's easiest to create an array containing summer months and use this to make two separate tables with summer months and school year months than it is to do so by creating an array containing school year months.\n",
    "\n",
    "Below I use a for loop to iterate through the 'Month' column and create an array of summer months."
   ]
  },
  {
   "cell_type": "code",
   "execution_count": 23,
   "metadata": {},
   "outputs": [],
   "source": [
    "summer_data = make_array()\n",
    "\n",
    "for month in uchicago_table.column(2):\n",
    "    if '06/01' in month or '07/01' in month or '08/01' in month or '09/01' in month:\n",
    "        summer_data = np.append(summer_data, month)"
   ]
  },
  {
   "cell_type": "markdown",
   "metadata": {},
   "source": [
    "Below is the table containing data for summer months (the months contained in `summer_data`)."
   ]
  },
  {
   "cell_type": "code",
   "execution_count": 24,
   "metadata": {},
   "outputs": [
    {
     "data": {
      "text/html": [
       "<table border=\"1\" class=\"dataframe\">\n",
       "    <thead>\n",
       "        <tr>\n",
       "            <th>Route</th> <th>Name</th> <th>Month</th> <th>Total</th>\n",
       "        </tr>\n",
       "    </thead>\n",
       "    <tbody>\n",
       "        <tr>\n",
       "            <td>170  </td> <td>U. of Chicago/Midway          </td> <td>06/01/2001</td> <td>4318 </td>\n",
       "        </tr>\n",
       "        <tr>\n",
       "            <td>171  </td> <td>U. of Chicago/Hyde Park       </td> <td>06/01/2001</td> <td>10290</td>\n",
       "        </tr>\n",
       "        <tr>\n",
       "            <td>172  </td> <td>U. of Chicago/Kenwood         </td> <td>06/01/2001</td> <td>8920 </td>\n",
       "        </tr>\n",
       "        <tr>\n",
       "            <td>173  </td> <td>U. of Chicago/Lakeview Express</td> <td>06/01/2001</td> <td>1575 </td>\n",
       "        </tr>\n",
       "        <tr>\n",
       "            <td>170  </td> <td>U. of Chicago/Midway          </td> <td>07/01/2001</td> <td>3335 </td>\n",
       "        </tr>\n",
       "        <tr>\n",
       "            <td>171  </td> <td>U. of Chicago/Hyde Park       </td> <td>07/01/2001</td> <td>5412 </td>\n",
       "        </tr>\n",
       "        <tr>\n",
       "            <td>172  </td> <td>U. of Chicago/Kenwood         </td> <td>07/01/2001</td> <td>6268 </td>\n",
       "        </tr>\n",
       "        <tr>\n",
       "            <td>170  </td> <td>U. of Chicago/Midway          </td> <td>08/01/2001</td> <td>4494 </td>\n",
       "        </tr>\n",
       "        <tr>\n",
       "            <td>171  </td> <td>U. of Chicago/Hyde Park       </td> <td>08/01/2001</td> <td>4473 </td>\n",
       "        </tr>\n",
       "        <tr>\n",
       "            <td>172  </td> <td>U. of Chicago/Kenwood         </td> <td>08/01/2001</td> <td>5486 </td>\n",
       "        </tr>\n",
       "    </tbody>\n",
       "</table>\n",
       "<p>... (270 rows omitted)</p>"
      ],
      "text/plain": [
       "Route | Name                           | Month      | Total\n",
       "170   | U. of Chicago/Midway           | 06/01/2001 | 4318\n",
       "171   | U. of Chicago/Hyde Park        | 06/01/2001 | 10290\n",
       "172   | U. of Chicago/Kenwood          | 06/01/2001 | 8920\n",
       "173   | U. of Chicago/Lakeview Express | 06/01/2001 | 1575\n",
       "170   | U. of Chicago/Midway           | 07/01/2001 | 3335\n",
       "171   | U. of Chicago/Hyde Park        | 07/01/2001 | 5412\n",
       "172   | U. of Chicago/Kenwood          | 07/01/2001 | 6268\n",
       "170   | U. of Chicago/Midway           | 08/01/2001 | 4494\n",
       "171   | U. of Chicago/Hyde Park        | 08/01/2001 | 4473\n",
       "172   | U. of Chicago/Kenwood          | 08/01/2001 | 5486\n",
       "... (270 rows omitted)"
      ]
     },
     "execution_count": 24,
     "metadata": {},
     "output_type": "execute_result"
    }
   ],
   "source": [
    "uchicago_summer = uchicago_table.where('Month', are.contained_in(summer_data))\n",
    "uchicago_summer"
   ]
  },
  {
   "cell_type": "markdown",
   "metadata": {},
   "source": [
    "And here is the table containing data for the school year (the months *not* contained in `summer_data`)."
   ]
  },
  {
   "cell_type": "code",
   "execution_count": 25,
   "metadata": {},
   "outputs": [
    {
     "data": {
      "text/html": [
       "<table border=\"1\" class=\"dataframe\">\n",
       "    <thead>\n",
       "        <tr>\n",
       "            <th>Route</th> <th>Name</th> <th>Month</th> <th>Total</th>\n",
       "        </tr>\n",
       "    </thead>\n",
       "    <tbody>\n",
       "        <tr>\n",
       "            <td>170  </td> <td>U. of Chicago/Midway          </td> <td>01/01/2001</td> <td>6315 </td>\n",
       "        </tr>\n",
       "        <tr>\n",
       "            <td>171  </td> <td>U. of Chicago/Hyde Park       </td> <td>01/01/2001</td> <td>21573</td>\n",
       "        </tr>\n",
       "        <tr>\n",
       "            <td>172  </td> <td>U. of Chicago/Kenwood         </td> <td>01/01/2001</td> <td>20116</td>\n",
       "        </tr>\n",
       "        <tr>\n",
       "            <td>173  </td> <td>U. of Chicago/Lakeview Express</td> <td>01/01/2001</td> <td>9088 </td>\n",
       "        </tr>\n",
       "        <tr>\n",
       "            <td>170  </td> <td>U. of Chicago/Midway          </td> <td>02/01/2001</td> <td>5758 </td>\n",
       "        </tr>\n",
       "        <tr>\n",
       "            <td>171  </td> <td>U. of Chicago/Hyde Park       </td> <td>02/01/2001</td> <td>20728</td>\n",
       "        </tr>\n",
       "        <tr>\n",
       "            <td>172  </td> <td>U. of Chicago/Kenwood         </td> <td>02/01/2001</td> <td>19198</td>\n",
       "        </tr>\n",
       "        <tr>\n",
       "            <td>173  </td> <td>U. of Chicago/Lakeview Express</td> <td>02/01/2001</td> <td>7703 </td>\n",
       "        </tr>\n",
       "        <tr>\n",
       "            <td>170  </td> <td>U. of Chicago/Midway          </td> <td>03/01/2001</td> <td>5233 </td>\n",
       "        </tr>\n",
       "        <tr>\n",
       "            <td>171  </td> <td>U. of Chicago/Hyde Park       </td> <td>03/01/2001</td> <td>23436</td>\n",
       "        </tr>\n",
       "    </tbody>\n",
       "</table>\n",
       "<p>... (575 rows omitted)</p>"
      ],
      "text/plain": [
       "Route | Name                           | Month      | Total\n",
       "170   | U. of Chicago/Midway           | 01/01/2001 | 6315\n",
       "171   | U. of Chicago/Hyde Park        | 01/01/2001 | 21573\n",
       "172   | U. of Chicago/Kenwood          | 01/01/2001 | 20116\n",
       "173   | U. of Chicago/Lakeview Express | 01/01/2001 | 9088\n",
       "170   | U. of Chicago/Midway           | 02/01/2001 | 5758\n",
       "171   | U. of Chicago/Hyde Park        | 02/01/2001 | 20728\n",
       "172   | U. of Chicago/Kenwood          | 02/01/2001 | 19198\n",
       "173   | U. of Chicago/Lakeview Express | 02/01/2001 | 7703\n",
       "170   | U. of Chicago/Midway           | 03/01/2001 | 5233\n",
       "171   | U. of Chicago/Hyde Park        | 03/01/2001 | 23436\n",
       "... (575 rows omitted)"
      ]
     },
     "execution_count": 25,
     "metadata": {},
     "output_type": "execute_result"
    }
   ],
   "source": [
    "uchicago_schoolyear = uchicago_table.where('Month', are.not_contained_in(summer_data))\n",
    "uchicago_schoolyear"
   ]
  },
  {
   "cell_type": "markdown",
   "metadata": {},
   "source": [
    "We define a function called `sample_100` which will take an array and a number of repetitions as arguments. The function will run a for loop the number of times specified by the repetitions argument.\n",
    "\n",
    "The for loop will do the following:\n",
    "\n",
    "1. Draw (with replacement) 100 samples from the array.\n",
    "2. Take the mean of the 100 samples.\n",
    "3. Append each of the means to an empty array.\n",
    "\n",
    "The function `sample_100` will return an array of means."
   ]
  },
  {
   "cell_type": "code",
   "execution_count": 26,
   "metadata": {},
   "outputs": [],
   "source": [
    "def sample_100(array, repetitions):\n",
    "    result = make_array()\n",
    "    for i in np.arange(repetitions):\n",
    "        random = np.random.choice(array, 100)\n",
    "        mean = np.mean(random)\n",
    "        result = np.append(result, mean)\n",
    "    return result"
   ]
  },
  {
   "cell_type": "markdown",
   "metadata": {},
   "source": [
    "Below I run the function `sample_100` on the 'Total' column of `uchicago_summer`. I create a table from the resulting array and then create a histogram of it."
   ]
  },
  {
   "cell_type": "code",
   "execution_count": 27,
   "metadata": {},
   "outputs": [
    {
     "data": {
      "image/png": "[encoded data removed]",
      "text/plain": [
       "<Figure size 432x288 with 1 Axes>"
      ]
     },
     "metadata": {},
     "output_type": "display_data"
    }
   ],
   "source": [
    "summer_sample = sample_100(uchicago_summer.column(3), 10000)\n",
    "summer_table = Table().with_column('Summer Means', summer_sample)\n",
    "summer_table.hist(0, bins=100)"
   ]
  },
  {
   "cell_type": "markdown",
   "metadata": {},
   "source": [
    "Below I run the function `sample_100` on the 'Total' column of `uchicago_summer`. I create a table from the resulting array and then create a histogram of it."
   ]
  },
  {
   "cell_type": "code",
   "execution_count": 28,
   "metadata": {},
   "outputs": [
    {
     "data": {
      "image/png": "[encoded data removed]",
      "text/plain": [
       "<Figure size 432x288 with 1 Axes>"
      ]
     },
     "metadata": {},
     "output_type": "display_data"
    }
   ],
   "source": [
    "year_sample = sample_100(uchicago_schoolyear.column(3), 10000)\n",
    "year_table = Table().with_column('Year Means', year_sample)\n",
    "year_table.hist(0, bins=100)"
   ]
  },
  {
   "cell_type": "markdown",
   "metadata": {},
   "source": [
    "Below I use the `percentile` function to generate 95% confidence intervals of the data used in the two histograms. If there is no overlap between the two 95% confidence intervals, then there is statistically significant evidence that can lead to rejecting the null hypothesis in favour of the alternative hypothesis at the 5% significance level. If not, we cannot reject the null hypothesis at the 5% significance level."
   ]
  },
  {
   "cell_type": "code",
   "execution_count": 29,
   "metadata": {},
   "outputs": [
    {
     "name": "stdout",
     "output_type": "stream",
     "text": [
      "95% Confidence Interval for mean number of rides during the summer: [10207.980000, 13662.040000]\n",
      "95% Confidence Interval for mean number of rides during the school year: [20053.670000, 27636.160000]\n"
     ]
    }
   ],
   "source": [
    "summer_left = percentile(2.5, summer_table.column(0))\n",
    "summer_right = percentile(97.5, summer_table.column(0))\n",
    "year_left = percentile(2.5, year_table.column(0))\n",
    "year_right = percentile(97.5, year_table.column(0))\n",
    "\n",
    "print(\"95% Confidence Interval for mean number of rides during the summer: [{:f}, {:f}]\".format(summer_left, summer_right))\n",
    "print(\"95% Confidence Interval for mean number of rides during the school year: [{:f}, {:f}]\".format(year_left, year_right))"
   ]
  },
  {
   "cell_type": "markdown",
   "metadata": {},
   "source": [
    ">**Conclusion:** The upper bound of the 95% confidence interval for average summer ridership is 13645.47 which is quite a bit lower than 20125.83, which is the lower bound of the 95% confidence interval for average school year ridership.\n",
    "\n",
    ">**Thus, at the 5% significance level, there is significant statistical evidence to lead to rejecting the null hypothesis that ridership on lines with the University of Chicago as a terminus during the summer months is, on average, equal to what it is during months of the school year.**"
   ]
  },
  {
   "cell_type": "markdown",
   "metadata": {},
   "source": [
    "## Ventra"
   ]
  },
  {
   "cell_type": "markdown",
   "metadata": {},
   "source": [
    "**The Question:** In August 2013, the CTA launched its partnership with Ventra, an electronic fare payment system. Ventra was meant to replace all other existing methods of payment by July 2014.\n",
    "\n",
    "What kind of impact, if any, has launching Ventra had on CTA bus ridership?\n",
    "\n",
    "Is there a statistically significant difference in ridership before Ventra’s launch, during the transition period (8/13 to 7/14), and after it became the sole payment system for the CTA?\n",
    "\n",
    "> **Null Hypothesis:** At the 5% significance level, the difference in means in CTA ridership before the launch of Ventra, during the transition period, and after it became the sole payment system for the CTA is not statistically significant.\n",
    "> In other words, $μ_{1}$ = $μ_{2}$ = $μ_{3}$.\n",
    "\n",
    "\n",
    "> **Alternative Hypothesis:** At the 5% significance level, there is a statistically significant difference in the means in CTA ridership before the launch of Ventra, during the transition period, and after it became the sole payment system for the CTA.\n",
    "> In other words, one or more of $μ_{1}$,  $μ_{2}$ and $μ_{3}$ are not equal to the others.\n",
    "\n",
    "**Statistical Methods**: Because I am comparing three different population means, I will use the one-way ANOVA (analysis of variance) method.\n",
    "\n",
    "**Setting up the Data:** For this question, I will break the data in `balanced_table` up into three separate tables. The first will contain the data for the pre-Ventra period, one will contain the data for months during the transition period, and one will contain post-Ventra data. Anything prior to September 2013 is \"pre-Ventra\" and anything starting July 2014 is post-Ventra.\n",
    "\n",
    "In order to break up the data I will do the following:\n",
    "1. Create an array called `months` from `cta` using the group method and the column method.\n",
    "2. Using this array and list comprehensions, create three different lists of months corresponding to each of the three different periods.\n",
    "3. Finally, using these lists and the where method with the `are.contained_in` predicate, I break balanced table up into three smaller tables called `pre_table`, `post_table`, and `transition_table`"
   ]
  },
  {
   "cell_type": "code",
   "execution_count": 30,
   "metadata": {},
   "outputs": [],
   "source": [
    "post = [i for i in months if '2017' in i or '2016' in i or '2015' in i] + ['07/01/2014','08/01/2014','09/01/2014','10/01/2014','11/01/2014','12/01/2014']\n",
    "pre = [i for i in months if '2001' in i or '2002' in i or '2003' in i or '2004' in i or '2005' in i or '2006' in i or '2007' in i  or '2008' in i  or '2009' in i  or '2010' in i  or '2011' in i or '2012' in i] + ['01/01/2013','02/01/2013','03/01/2013','04/01/2013','05/01/2013','06/01/2013','07/01/2013','08/01/2013']\n",
    "transition = [i for i in months if i not in post and i not in pre]"
   ]
  },
  {
   "cell_type": "code",
   "execution_count": 31,
   "metadata": {},
   "outputs": [
    {
     "data": {
      "text/html": [
       "<table border=\"1\" class=\"dataframe\">\n",
       "    <thead>\n",
       "        <tr>\n",
       "            <th>Route</th> <th>Name</th> <th>Month</th> <th>Total</th>\n",
       "        </tr>\n",
       "    </thead>\n",
       "    <tbody>\n",
       "        <tr>\n",
       "            <td>2    </td> <td>Hyde Park Express   </td> <td>01/01/2001</td> <td>22001 </td>\n",
       "        </tr>\n",
       "        <tr>\n",
       "            <td>3    </td> <td>King Drive          </td> <td>01/01/2001</td> <td>567413</td>\n",
       "        </tr>\n",
       "        <tr>\n",
       "            <td>4    </td> <td>Cottage Grove       </td> <td>01/01/2001</td> <td>618796</td>\n",
       "        </tr>\n",
       "        <tr>\n",
       "            <td>6    </td> <td>Jackson Park Express</td> <td>01/01/2001</td> <td>493926</td>\n",
       "        </tr>\n",
       "        <tr>\n",
       "            <td>7    </td> <td>Harrison            </td> <td>01/01/2001</td> <td>121097</td>\n",
       "        </tr>\n",
       "        <tr>\n",
       "            <td>8    </td> <td>Halsted             </td> <td>01/01/2001</td> <td>521892</td>\n",
       "        </tr>\n",
       "        <tr>\n",
       "            <td>8A   </td> <td>South Halsted       </td> <td>01/01/2001</td> <td>89030 </td>\n",
       "        </tr>\n",
       "        <tr>\n",
       "            <td>9    </td> <td>Ashland             </td> <td>01/01/2001</td> <td>811006</td>\n",
       "        </tr>\n",
       "        <tr>\n",
       "            <td>12   </td> <td>Roosevelt           </td> <td>01/01/2001</td> <td>288055</td>\n",
       "        </tr>\n",
       "        <tr>\n",
       "            <td>18   </td> <td>16th/18th           </td> <td>01/01/2001</td> <td>49130 </td>\n",
       "        </tr>\n",
       "    </tbody>\n",
       "</table>\n",
       "<p>... (14734 rows omitted)</p>"
      ],
      "text/plain": [
       "Route | Name                 | Month      | Total\n",
       "2     | Hyde Park Express    | 01/01/2001 | 22001\n",
       "3     | King Drive           | 01/01/2001 | 567413\n",
       "4     | Cottage Grove        | 01/01/2001 | 618796\n",
       "6     | Jackson Park Express | 01/01/2001 | 493926\n",
       "7     | Harrison             | 01/01/2001 | 121097\n",
       "8     | Halsted              | 01/01/2001 | 521892\n",
       "8A    | South Halsted        | 01/01/2001 | 89030\n",
       "9     | Ashland              | 01/01/2001 | 811006\n",
       "12    | Roosevelt            | 01/01/2001 | 288055\n",
       "18    | 16th/18th            | 01/01/2001 | 49130\n",
       "... (14734 rows omitted)"
      ]
     },
     "execution_count": 31,
     "metadata": {},
     "output_type": "execute_result"
    }
   ],
   "source": [
    "pre_table = balanced_table.where('Month', are.contained_in(pre))\n",
    "post_table = balanced_table.where('Month', are.contained_in(post))\n",
    "transition_table = balanced_table.where('Month', are.contained_in(transition))\n",
    "pre_table"
   ]
  },
  {
   "cell_type": "markdown",
   "metadata": {},
   "source": [
    "Below I run the function `sample_100` on the 'Total' column of all three tables using 1000 repetitions. I create a table from the resulting arrays and then create histograms of each column to serve as visualization aids."
   ]
  },
  {
   "cell_type": "code",
   "execution_count": 32,
   "metadata": {},
   "outputs": [
    {
     "data": {
      "text/html": [
       "<table border=\"1\" class=\"dataframe\">\n",
       "    <thead>\n",
       "        <tr>\n",
       "            <th>Pre Means</th> <th>Transition Means</th> <th>Post Means</th>\n",
       "        </tr>\n",
       "    </thead>\n",
       "    <tbody>\n",
       "        <tr>\n",
       "            <td>207597   </td> <td>194774          </td> <td>191038    </td>\n",
       "        </tr>\n",
       "        <tr>\n",
       "            <td>216271   </td> <td>261396          </td> <td>198440    </td>\n",
       "        </tr>\n",
       "        <tr>\n",
       "            <td>249716   </td> <td>217351          </td> <td>198013    </td>\n",
       "        </tr>\n",
       "        <tr>\n",
       "            <td>225352   </td> <td>226810          </td> <td>221653    </td>\n",
       "        </tr>\n",
       "        <tr>\n",
       "            <td>201479   </td> <td>277839          </td> <td>231405    </td>\n",
       "        </tr>\n",
       "        <tr>\n",
       "            <td>232070   </td> <td>181499          </td> <td>216943    </td>\n",
       "        </tr>\n",
       "        <tr>\n",
       "            <td>223593   </td> <td>207444          </td> <td>194014    </td>\n",
       "        </tr>\n",
       "        <tr>\n",
       "            <td>211133   </td> <td>221090          </td> <td>166971    </td>\n",
       "        </tr>\n",
       "        <tr>\n",
       "            <td>241359   </td> <td>224433          </td> <td>213318    </td>\n",
       "        </tr>\n",
       "        <tr>\n",
       "            <td>223427   </td> <td>213839          </td> <td>215351    </td>\n",
       "        </tr>\n",
       "    </tbody>\n",
       "</table>\n",
       "<p>... (9990 rows omitted)</p>"
      ],
      "text/plain": [
       "Pre Means | Transition Means | Post Means\n",
       "207597    | 194774           | 191038\n",
       "216271    | 261396           | 198440\n",
       "249716    | 217351           | 198013\n",
       "225352    | 226810           | 221653\n",
       "201479    | 277839           | 231405\n",
       "232070    | 181499           | 216943\n",
       "223593    | 207444           | 194014\n",
       "211133    | 221090           | 166971\n",
       "241359    | 224433           | 213318\n",
       "223427    | 213839           | 215351\n",
       "... (9990 rows omitted)"
      ]
     },
     "execution_count": 32,
     "metadata": {},
     "output_type": "execute_result"
    }
   ],
   "source": [
    "pre_sample = sample_100(pre_table.column(3), 10000)\n",
    "pre = Table().with_column('Pre-Ventra Means', pre_sample)\n",
    "\n",
    "transition_sample = sample_100(transition_table.column(3), 10000)\n",
    "transition = Table().with_column('Transition Means', transition_sample)\n",
    "\n",
    "post_sample = sample_100(post_table.column(3), 10000)\n",
    "post = Table().with_column('Post-Ventra Means', post_sample)\n",
    "\n",
    "ventra_means = Table().with_columns('Pre Means', pre_sample, 'Transition Means', transition_sample, 'Post Means', post_sample)\n",
    "ventra_means"
   ]
  },
  {
   "cell_type": "code",
   "execution_count": 33,
   "metadata": {},
   "outputs": [
    {
     "data": {
      "image/png": "[encoded data removed]",
      "text/plain": [
       "<Figure size 432x288 with 1 Axes>"
      ]
     },
     "metadata": {},
     "output_type": "display_data"
    }
   ],
   "source": [
    "ventra_means.hist(0, 1, 2, bins=100)"
   ]
  },
  {
   "cell_type": "markdown",
   "metadata": {},
   "source": [
    "In order to conduct a one-way ANOVA test, we need to know the means of `pre_sample`, `transition_sample`, and `post_sample` as well as a \"grand mean\" which is the mean of all of the data in all of these arrays.\n",
    "\n",
    "The steps to conducting a one-way ANOVA test are as follows:\n",
    "1. Find the ridership means of each of the periods being compared.\n",
    "2. Using these means, find the variance in the data for each of the periods and sum these variances.\n",
    "3. Find a \"grand mean\" which is the mean of all of the data in all of the arrays.\n",
    "4. Compute the variance between each of the individual means using the \"grand mean\"\n",
    "5. Divide the \"grand mean\" variance by the sum of variances for each period.\n",
    "6. Compare this value to the critical value found in the F-critical values table."
   ]
  },
  {
   "cell_type": "markdown",
   "metadata": {},
   "source": [
    "Because there are 3 samples (m) and the total size of all of the samples together is 3000 (n), the degrees of freedom are as follows:\n",
    "\n",
    "The numerator has m-1 = **2 degrees of freedom**.\n",
    "\n",
    "The denominator has n-m = **2997 degrees of freedom**.\n",
    "\n",
    "Based on the F-Table for the chosen α value of 0.05 and the found degrees of freedom, the critical F-value to which I must compare the F-score that I will be calculating is **3.00**.\n",
    "\n",
    "If the calculated F-score is greater than 3.00, then I will reject the null hypothesis."
   ]
  },
  {
   "cell_type": "markdown",
   "metadata": {},
   "source": [
    "Here are the means of `pre_sample`, `transition_sample`, and `post_sample` and the \"grand mean\":"
   ]
  },
  {
   "cell_type": "code",
   "execution_count": 34,
   "metadata": {},
   "outputs": [
    {
     "name": "stdout",
     "output_type": "stream",
     "text": [
      "Pre-Ventra Ridership Mean: 236899.265917\n",
      "Transition Period Ridership Mean: 222683.655720\n",
      "Post-Ventra Ridership Mean: 207285.942826\n",
      "Grand Mean: 222289.621488\n"
     ]
    }
   ],
   "source": [
    "pre_mean = np.mean(pre_sample)\n",
    "transition_mean = np.mean(transition_sample)\n",
    "post_mean = np.mean(post_sample)\n",
    "means = make_array(pre_mean, transition_mean, post_mean)\n",
    "grand_mean = np.mean(means)\n",
    "print(\"Pre-Ventra Ridership Mean: {:f}\".format(pre_mean))\n",
    "print(\"Transition Period Ridership Mean: {:f}\".format(transition_mean))\n",
    "print(\"Post-Ventra Ridership Mean: {:f}\".format(post_mean))\n",
    "print(\"Grand Mean: {:f}\".format(grand_mean))"
   ]
  },
  {
   "cell_type": "markdown",
   "metadata": {},
   "source": [
    "Below I define a function `diff_mean_sq` that will help calculate the denominator variance.\n",
    "\n",
    "The function takes in an array as an argument and does the following:\n",
    "1. Takes the mean of the array.\n",
    "2. Creates an empty array called `a`.\n",
    "3. For each item in the original array, find the difference between that item and the mean of the array and then square this difference.\n",
    "4. Append each of these squared differences to empty array `a`.\n",
    "5. Return the sum of all items in `a`.\n"
   ]
  },
  {
   "cell_type": "code",
   "execution_count": 35,
   "metadata": {},
   "outputs": [],
   "source": [
    "def diff_mean_sq(array):\n",
    "    mean = np.mean(array)\n",
    "    a = make_array()\n",
    "    for i in array:\n",
    "        diff_sq = (i - mean)**2\n",
    "        a = np.append(a, diff_sq)\n",
    "    return sum(a)"
   ]
  },
  {
   "cell_type": "markdown",
   "metadata": {},
   "source": [
    "And here are the variance that will be used in the numerator and denomator as well as the F-score that comes from dividing the numerator by the denominator:"
   ]
  },
  {
   "cell_type": "code",
   "execution_count": 36,
   "metadata": {},
   "outputs": [
    {
     "name": "stdout",
     "output_type": "stream",
     "text": [
      "Numerator: 225343267846.927399\n",
      "Denominator: 3596797243.703134\n",
      "F-Score: 62.651090\n"
     ]
    }
   ],
   "source": [
    "var_num = (1000*((pre_mean-grand_mean)**2+(transition_mean-grand_mean)**2+(post_mean-transition_mean)**2))/(3-1)\n",
    "var_den = (diff_mean_sq(pre_sample) + diff_mean_sq(transition_sample) + diff_mean_sq(post_sample)) / (3000-3)\n",
    "f_score = var_num / var_den\n",
    "print(\"Numerator: {:f}\".format(var_num))\n",
    "print(\"Denominator: {:f}\".format(var_den))\n",
    "print(\"F-Score: {:f}\".format(f_score))"
   ]
  },
  {
   "cell_type": "markdown",
   "metadata": {},
   "source": [
    "Clearly the calculated F-score of 63.05 is significantly larger than the critical F-value. Thus I conclude the following:\n",
    "\n",
    ">**Conclusion:** At the 5% significance level, we can reject the null hypothesis that the mean ridership before the introduction of Ventra was the same as that during the transition period to Ventra and as that during the period during which Ventra became the sole payment method used by the CTA. There is statistical significant evidence to support the alternative hypothesis that one or more of these means are significantly different from the others."
   ]
  }
 ],
 "metadata": {
  "kernelspec": {
   "display_name": "Python 3",
   "language": "python",
   "name": "python3"
  },
  "language_info": {
   "codemirror_mode": {
    "name": "ipython",
    "version": 3
   },
   "file_extension": ".py",
   "mimetype": "text/x-python",
   "name": "python",
   "nbconvert_exporter": "python",
   "pygments_lexer": "ipython3",
   "version": "3.6.5"
  }
 },
 "nbformat": 4,
 "nbformat_minor": 2
}
